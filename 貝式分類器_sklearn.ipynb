{
  "nbformat": 4,
  "nbformat_minor": 0,
  "metadata": {
    "colab": {
      "provenance": []
    },
    "kernelspec": {
      "name": "python3",
      "display_name": "Python 3"
    },
    "language_info": {
      "name": "python"
    }
  },
  "cells": [
    {
      "cell_type": "code",
      "execution_count": 1,
      "metadata": {
        "colab": {
          "base_uri": "https://localhost:8080/"
        },
        "id": "7VShCPj5shfT",
        "outputId": "63decd93-8b15-4b18-92c0-63f65f35255f"
      },
      "outputs": [
        {
          "output_type": "stream",
          "name": "stdout",
          "text": [
            "訓練資料正確率: 0.9428571428571428\n",
            "測試資料正確率: 1.0\n",
            "標準答案: [2 1 0 2 0 2 0 1 1 1 2 1 1 1 1 0 1 1 0 0 2 1 0 0 2 0 0 1 1 0 2 1 0 2 2 1 0\n",
            " 1 1 1 2 0 2 0 0]\n",
            "預測答案: [2 1 0 2 0 2 0 1 1 1 2 1 1 1 1 0 1 1 0 0 2 1 0 0 2 0 0 1 1 0 2 1 0 2 2 1 0\n",
            " 1 1 1 2 0 2 0 0]\n"
          ]
        }
      ],
      "source": [
        "from sklearn import datasets  # 載入 sklearn 的資料集模組\n",
        "from sklearn.naive_bayes import GaussianNB  # 載入 Gaussian Naive Bayes 模型\n",
        "from sklearn.model_selection import train_test_split  # 載入資料切分工具\n",
        "\n",
        "# 載入 iris（鳶尾花）資料集\n",
        "iris = datasets.load_iris()\n",
        "x = iris.data  # 特徵資料（每朵花的長度與寬度）\n",
        "y = iris.target  # 標籤資料（花的種類）\n",
        "\n",
        "# 將資料集切分為訓練集與測試集（70% 訓練, 30% 測試）\n",
        "train_data, test_data, train_label, test_label = train_test_split(\n",
        "    x, y, test_size=0.3, random_state=0\n",
        ")\n",
        "\n",
        "# 建立 Gaussian Naive Bayes 模型\n",
        "clf = GaussianNB()\n",
        "\n",
        "# 使用訓練資料來訓練模型\n",
        "clf.fit(train_data, train_label)\n",
        "\n",
        "# 計算並印出模型在訓練資料上的正確率\n",
        "print(\"訓練資料正確率:\", clf.score(train_data, train_label))  # 用訓練資料預測並比對真實標籤\n",
        "\n",
        "# 計算並印出模型在測試資料上的正確率\n",
        "print(\"測試資料正確率:\", clf.score(test_data, test_label))  # 用測試資料預測並比對真實標籤\n",
        "\n",
        "# 使用訓練好的模型對測試資料進行預測\n",
        "predict = clf.predict(test_data)\n",
        "\n",
        "# 印出測試資料的標準答案（真實標籤）\n",
        "print(\"標準答案:\", test_label)\n",
        "\n",
        "# 印出模型對測試資料的預測結果\n",
        "print(\"預測答案:\", predict)"
      ]
    }
  ]
}