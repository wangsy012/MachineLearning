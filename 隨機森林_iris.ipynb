{
  "nbformat": 4,
  "nbformat_minor": 0,
  "metadata": {
    "colab": {
      "provenance": []
    },
    "kernelspec": {
      "name": "python3",
      "display_name": "Python 3"
    },
    "language_info": {
      "name": "python"
    }
  },
  "cells": [
    {
      "cell_type": "code",
      "source": [
        "from sklearn.ensemble import RandomForestClassifier # 匯入隨機森林分類器模組\n",
        "from sklearn.datasets import load_iris# 匯入內建的鳶尾花資料集\n",
        "from sklearn.model_selection import train_test_split# 匯入資料切分工具，將資料分成訓練集與測試集\n",
        "\n",
        "# 讀入鳶尾花資料\n",
        "iris = load_iris() # 載入資料集\n",
        "iris_data = iris.data# 花的特徵\n",
        "iris_label = iris.target# 花的類別標籤\n",
        "\n",
        "# 切分訓練與測試資料\n",
        "train_data, test_data, train_label, test_label = train_test_split(iris_data, iris_label, test_size = 0.3)#將資料分成訓練資料與測試資料\n",
        "\n",
        "# 建立分類器\n",
        "clf = RandomForestClassifier(n_estimators=30, max_depth=4)\n",
        "iris_clf = clf.fit(train_data, train_label)\n",
        "print(\"訓練資料正確率:\",clf.score(train_data,train_label)) # 訓練資料正確率\n",
        "print(\"測試資料正確率:\",clf.score(test_data, test_label)) # 測試資料正確率\n",
        "\n",
        "predict=clf.predict(test_data) # 預測\n",
        "print(\"標準答案:\",test_label) # 標準答案\n",
        "print(\"預測答案:\",predict) # 預測答案"
      ],
      "metadata": {
        "colab": {
          "base_uri": "https://localhost:8080/"
        },
        "id": "BQqo_XE4csL0",
        "outputId": "dc5f9193-8c56-4767-c7ce-334e1a6488aa"
      },
      "execution_count": 5,
      "outputs": [
        {
          "output_type": "stream",
          "name": "stdout",
          "text": [
            "訓練資料正確率: 0.9904761904761905\n",
            "測試資料正確率: 0.9333333333333333\n",
            "標準答案: [1 2 1 1 0 2 2 2 0 0 1 1 2 1 0 2 2 1 1 2 0 2 2 1 0 1 1 2 0 1 0 2 2 1 1 2 1\n",
            " 2 0 2 2 2 1 1 0]\n",
            "預測答案: [1 1 1 1 0 2 1 2 0 0 1 1 2 1 0 2 2 1 1 2 0 2 2 1 0 1 1 1 0 1 0 2 2 1 1 2 1\n",
            " 2 0 2 2 2 1 1 0]\n"
          ]
        }
      ]
    }
  ]
}