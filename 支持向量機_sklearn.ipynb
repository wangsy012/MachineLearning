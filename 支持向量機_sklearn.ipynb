{
  "nbformat": 4,
  "nbformat_minor": 0,
  "metadata": {
    "colab": {
      "provenance": []
    },
    "kernelspec": {
      "name": "python3",
      "display_name": "Python 3"
    },
    "language_info": {
      "name": "python"
    }
  },
  "cells": [
    {
      "cell_type": "code",
      "source": [
        "# 匯入所需模組\n",
        "from sklearn import datasets, svm  # 載入 sklearn 的資料集與 SVM 模型\n",
        "from sklearn.model_selection import train_test_split  # 載入資料切分工具\n",
        "\n",
        "# 載入 iris（鳶尾花）資料集\n",
        "iris = datasets.load_iris()\n",
        "x = iris.data  # 特徵資料（花的長度、寬度等）\n",
        "y = iris.target  # 標籤資料（花的種類）\n",
        "\n",
        "# 將資料切分為訓練資料與測試資料（70% 訓練, 30% 測試）\n",
        "train_data, test_data, train_label, test_label = train_test_split(\n",
        "    x, y, test_size=0.3, random_state=0\n",
        ")\n",
        "\n",
        "# 建立支援向量機分類器，使用多項式核函數\n",
        "# C=100 表示較強的懲罰項（對誤分類容忍度低）\n",
        "# gamma='auto' 表示 gamma 由 1 / n_features 決定\n",
        "clf = svm.SVC(kernel='poly', gamma='auto', C=100)\n",
        "\n",
        "# 使用訓練資料訓練模型\n",
        "clf.fit(train_data, train_label)\n",
        "\n",
        "# 計算並印出模型在訓練資料上的正確率\n",
        "print(\"訓練資料正確率:\", clf.score(train_data, train_label))\n",
        "\n",
        "# 計算並印出模型在測試資料上的正確率\n",
        "print(\"測試資料正確率:\", clf.score(test_data, test_label))\n",
        "\n",
        "# 使用模型對測試資料進行預測\n",
        "predict = clf.predict(test_data)\n",
        "\n",
        "# 印出測試資料的標準答案（真實標籤）\n",
        "print(\"標準答案:\", test_label)\n",
        "\n",
        "# 印出模型對測試資料的預測結果\n",
        "print(\"預測答案:\", predict)"
      ],
      "metadata": {
        "colab": {
          "base_uri": "https://localhost:8080/"
        },
        "id": "sc3Tc2Vdtues",
        "outputId": "bec79346-672e-43f0-a2da-02d96efb15bd"
      },
      "execution_count": 2,
      "outputs": [
        {
          "output_type": "stream",
          "name": "stdout",
          "text": [
            "訓練資料正確率: 1.0\n",
            "測試資料正確率: 0.9777777777777777\n",
            "標準答案: [2 1 0 2 0 2 0 1 1 1 2 1 1 1 1 0 1 1 0 0 2 1 0 0 2 0 0 1 1 0 2 1 0 2 2 1 0\n",
            " 1 1 1 2 0 2 0 0]\n",
            "預測答案: [2 1 0 2 0 2 0 1 1 1 2 1 1 1 1 0 1 1 0 0 2 1 0 0 2 0 0 1 1 0 2 1 0 2 2 1 0\n",
            " 2 1 1 2 0 2 0 0]\n"
          ]
        }
      ]
    }
  ]
}