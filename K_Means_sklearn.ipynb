{
  "nbformat": 4,
  "nbformat_minor": 0,
  "metadata": {
    "colab": {
      "provenance": []
    },
    "kernelspec": {
      "name": "python3",
      "display_name": "Python 3"
    },
    "language_info": {
      "name": "python"
    }
  },
  "cells": [
    {
      "cell_type": "code",
      "source": [
        "# 匯入所需模組\n",
        "from sklearn.cluster import KMeans  # 匯入 KMeans 分群演算法\n",
        "from sklearn.datasets import load_iris  # 匯入 Iris 資料集\n",
        "from sklearn.metrics import accuracy_score  # 匯入正確率評估函數\n",
        "\n",
        "# 讀入鳶尾花資料集\n",
        "iris = load_iris()\n",
        "iris_data = iris.data     # 特徵資料（如花萼與花瓣的長度與寬度）\n",
        "iris_label = iris.target  # 真實標籤（0=setosa, 1=versicolor, 2=virginica）\n",
        "\n",
        "# 建立 KMeans 分群模型，指定要分成 3 群（因為 Iris 資料有 3 種花）\n",
        "clf = KMeans(n_clusters=3)\n",
        "\n",
        "# 使用 KMeans 模型對資料進行訓練（分群）\n",
        "iris_clf = clf.fit(iris_data)\n",
        "\n",
        "# 取得分群結果（每筆資料被分配到哪一群）\n",
        "cluster_labels = iris_clf.labels_\n",
        "\n",
        "# 印出分群結果（每筆資料被分到的群編號）\n",
        "print(\"分群結果：\")\n",
        "print(cluster_labels)\n",
        "\n",
        "# 印出原本的真實品種標籤\n",
        "print(\"真實品種：\")\n",
        "print(iris_label)\n",
        "\n",
        "# 計算並印出分群結果與真實標籤的「正確率」\n",
        "print(accuracy_score(cluster_labels, iris_label))"
      ],
      "metadata": {
        "colab": {
          "base_uri": "https://localhost:8080/"
        },
        "id": "gsHLV9chyqJt",
        "outputId": "43a91702-5b38-4035-f30a-001a71b89939"
      },
      "execution_count": 10,
      "outputs": [
        {
          "output_type": "stream",
          "name": "stdout",
          "text": [
            "分群結果：\n",
            "[1 1 1 1 1 1 1 1 1 1 1 1 1 1 1 1 1 1 1 1 1 1 1 1 1 1 1 1 1 1 1 1 1 1 1 1 1\n",
            " 1 1 1 1 1 1 1 1 1 1 1 1 1 0 0 2 0 0 0 0 0 0 0 0 0 0 0 0 0 0 0 0 0 0 0 0 0\n",
            " 0 0 0 2 0 0 0 0 0 0 0 0 0 0 0 0 0 0 0 0 0 0 0 0 0 0 2 0 2 2 2 2 0 2 2 2 2\n",
            " 2 2 0 0 2 2 2 2 0 2 0 2 0 2 2 0 0 2 2 2 2 2 0 2 2 2 2 0 2 2 2 0 2 2 2 0 2\n",
            " 2 0]\n",
            "真實品種：\n",
            "[0 0 0 0 0 0 0 0 0 0 0 0 0 0 0 0 0 0 0 0 0 0 0 0 0 0 0 0 0 0 0 0 0 0 0 0 0\n",
            " 0 0 0 0 0 0 0 0 0 0 0 0 0 1 1 1 1 1 1 1 1 1 1 1 1 1 1 1 1 1 1 1 1 1 1 1 1\n",
            " 1 1 1 1 1 1 1 1 1 1 1 1 1 1 1 1 1 1 1 1 1 1 1 1 1 1 2 2 2 2 2 2 2 2 2 2 2\n",
            " 2 2 2 2 2 2 2 2 2 2 2 2 2 2 2 2 2 2 2 2 2 2 2 2 2 2 2 2 2 2 2 2 2 2 2 2 2\n",
            " 2 2]\n",
            "0.24\n"
          ]
        }
      ]
    }
  ]
}